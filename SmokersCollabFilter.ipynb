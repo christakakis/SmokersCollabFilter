{
  "nbformat": 4,
  "nbformat_minor": 0,
  "metadata": {
    "colab": {
      "provenance": [],
      "collapsed_sections": [
        "kEeBiHn5EB3t",
        "Dqtjf2t_4DOQ",
        "ijMjJLjgCjZI",
        "lwsgYaKwDR8U",
        "HOePy93rNk6M",
        "4gPGYlkwNvVS",
        "FhrnktlqQ1c0",
        "k9p0bdbuRn83",
        "9nVrlMBg_-ab",
        "Ta7eqHX_HO1A"
      ]
    },
    "kernelspec": {
      "name": "python3",
      "display_name": "Python 3"
    },
    "language_info": {
      "name": "python"
    },
    "widgets": {
      "application/vnd.jupyter.widget-state+json": {
        "0906ec297ec341fdaeb5177ad8eed636": {
          "model_module": "@jupyter-widgets/controls",
          "model_name": "VBoxModel",
          "model_module_version": "1.5.0",
          "state": {
            "_dom_classes": [],
            "_model_module": "@jupyter-widgets/controls",
            "_model_module_version": "1.5.0",
            "_model_name": "VBoxModel",
            "_view_count": null,
            "_view_module": "@jupyter-widgets/controls",
            "_view_module_version": "1.5.0",
            "_view_name": "VBoxView",
            "box_style": "",
            "children": [
              "IPY_MODEL_f71d3d517c494846830aa3fed1270400",
              "IPY_MODEL_0e7e7ea7db084d56bf2a26d227a9273e",
              "IPY_MODEL_d721f027866f4bca97e2a56a22fb718e",
              "IPY_MODEL_5963e2cac6b54f1db02e6313fedaf77f",
              "IPY_MODEL_983d58c680ae4bf5bd4a741d1b7becb7"
            ],
            "layout": "IPY_MODEL_5607318ce97c4a4a829327b8ef3ba3e0"
          }
        },
        "f71d3d517c494846830aa3fed1270400": {
          "model_module": "@jupyter-widgets/controls",
          "model_name": "HTMLModel",
          "model_module_version": "1.5.0",
          "state": {
            "_dom_classes": [],
            "_model_module": "@jupyter-widgets/controls",
            "_model_module_version": "1.5.0",
            "_model_name": "HTMLModel",
            "_view_count": null,
            "_view_module": "@jupyter-widgets/controls",
            "_view_module_version": "1.5.0",
            "_view_name": "HTMLView",
            "description": "",
            "description_tooltip": null,
            "layout": "IPY_MODEL_b0fd805965ad45d09a0647494d48ea99",
            "placeholder": "​",
            "style": "IPY_MODEL_c183b0f075a74023b88847a382f4ec71",
            "value": "<div style='background-color:#3498db; color:#fff; padding:10px; margin-bottom:10px;'><h2 style='margin:0; font-family:Arial, sans-serif;'>SmokersCollabFilter: Personalized Recommendations</h2></div><p style='font-size:14px; line-height:1.5; font-family:Arial; margin:10px;'>Enter one or more tobacco brand ratings below (integers only). Then click <strong>Get Recommendations</strong> to see which other brands you might enjoy.<br><em style='color:#7f8c8d;'>Note: This is a demo UI for experimentation.</em></p>"
          }
        },
        "0e7e7ea7db084d56bf2a26d227a9273e": {
          "model_module": "@jupyter-widgets/controls",
          "model_name": "HBoxModel",
          "model_module_version": "1.5.0",
          "state": {
            "_dom_classes": [],
            "_model_module": "@jupyter-widgets/controls",
            "_model_module_version": "1.5.0",
            "_model_name": "HBoxModel",
            "_view_count": null,
            "_view_module": "@jupyter-widgets/controls",
            "_view_module_version": "1.5.0",
            "_view_name": "HBoxView",
            "box_style": "",
            "children": [
              "IPY_MODEL_5d09656d49fb4ac29cc72e288e123e09",
              "IPY_MODEL_7616aab5baf44c539ff36ac6e7adad8e"
            ],
            "layout": "IPY_MODEL_d86e4b866a134c3698b8a2b744f12f53"
          }
        },
        "d721f027866f4bca97e2a56a22fb718e": {
          "model_module": "@jupyter-widgets/controls",
          "model_name": "HBoxModel",
          "model_module_version": "1.5.0",
          "state": {
            "_dom_classes": [],
            "_model_module": "@jupyter-widgets/controls",
            "_model_module_version": "1.5.0",
            "_model_name": "HBoxModel",
            "_view_count": null,
            "_view_module": "@jupyter-widgets/controls",
            "_view_module_version": "1.5.0",
            "_view_name": "HBoxView",
            "box_style": "",
            "children": [
              "IPY_MODEL_b376be1a08a7458d8c1e073acaad1be1",
              "IPY_MODEL_79de50cac991444194a95ba19e93d8fe"
            ],
            "layout": "IPY_MODEL_85c66118aaa64aa1ba99a5825257eb7b"
          }
        },
        "5963e2cac6b54f1db02e6313fedaf77f": {
          "model_module": "@jupyter-widgets/output",
          "model_name": "OutputModel",
          "model_module_version": "1.0.0",
          "state": {
            "_dom_classes": [],
            "_model_module": "@jupyter-widgets/output",
            "_model_module_version": "1.0.0",
            "_model_name": "OutputModel",
            "_view_count": null,
            "_view_module": "@jupyter-widgets/output",
            "_view_module_version": "1.0.0",
            "_view_name": "OutputView",
            "layout": "IPY_MODEL_cf57dae3c2474a06aa27ab5c9908a458",
            "msg_id": "",
            "outputs": [
              {
                "output_type": "display_data",
                "data": {
                  "text/plain": "<IPython.core.display.HTML object>",
                  "text/html": "<b>Your Ratings so far:</b>"
                },
                "metadata": {}
              },
              {
                "output_type": "display_data",
                "data": {
                  "text/plain": "<IPython.core.display.HTML object>",
                  "text/html": "<div style='max-height:180px; overflow:auto; border:1px solid #ccc; padding:5px;'><table style='border-collapse:collapse; width:95%; font-family:Arial;'><thead><tr style='background-color:#ecf0f1;'><th style='border:1px solid #bdc3c7; padding:6px;'>Brand</th><th style='border:1px solid #bdc3c7; padding:6px;'>Rating</th></tr></thead><tbody><tr><td style='border:1px solid #bdc3c7; padding:6px;'>Davidoff Classic 20’</td><td style='border:1px solid #bdc3c7; padding:6px; text-align:center;'>3</td></tr><tr><td style='border:1px solid #bdc3c7; padding:6px;'>Camel Κίτρινο Καπνός</td><td style='border:1px solid #bdc3c7; padding:6px; text-align:center;'>3</td></tr><tr><td style='border:1px solid #bdc3c7; padding:6px;'>Golden Virginia Κίτρινο Καπνός</td><td style='border:1px solid #bdc3c7; padding:6px; text-align:center;'>4</td></tr><tr><td style='border:1px solid #bdc3c7; padding:6px;'>Άσσο Μαλακό</td><td style='border:1px solid #bdc3c7; padding:6px; text-align:center;'>4</td></tr></tbody></table></div>"
                },
                "metadata": {}
              }
            ]
          }
        },
        "983d58c680ae4bf5bd4a741d1b7becb7": {
          "model_module": "@jupyter-widgets/output",
          "model_name": "OutputModel",
          "model_module_version": "1.0.0",
          "state": {
            "_dom_classes": [],
            "_model_module": "@jupyter-widgets/output",
            "_model_module_version": "1.0.0",
            "_model_name": "OutputModel",
            "_view_count": null,
            "_view_module": "@jupyter-widgets/output",
            "_view_module_version": "1.0.0",
            "_view_name": "OutputView",
            "layout": "IPY_MODEL_f08180560ef84d9a9ae6f81d9c97cbd5",
            "msg_id": "",
            "outputs": [
              {
                "output_type": "display_data",
                "data": {
                  "text/plain": "<IPython.core.display.HTML object>",
                  "text/html": "<div style='border:2px solid #bdc3c7; padding:10px; font-family:Arial;'><b>Top Recommendations (Brand : Predicted Rating):</b><ul style='list-style-type:disc; padding-left:20px; margin-top:5px;'><li><b>Davidoff Gold 20’</b>: 3</li><li><b>Καρέλια Χρυσή Κασετίνα</b>: 3</li></ul></div>"
                },
                "metadata": {}
              }
            ]
          }
        },
        "5607318ce97c4a4a829327b8ef3ba3e0": {
          "model_module": "@jupyter-widgets/base",
          "model_name": "LayoutModel",
          "model_module_version": "1.2.0",
          "state": {
            "_model_module": "@jupyter-widgets/base",
            "_model_module_version": "1.2.0",
            "_model_name": "LayoutModel",
            "_view_count": null,
            "_view_module": "@jupyter-widgets/base",
            "_view_module_version": "1.2.0",
            "_view_name": "LayoutView",
            "align_content": null,
            "align_items": null,
            "align_self": null,
            "border": "1px solid #2ecc71",
            "bottom": null,
            "display": null,
            "flex": null,
            "flex_flow": null,
            "grid_area": null,
            "grid_auto_columns": null,
            "grid_auto_flow": null,
            "grid_auto_rows": null,
            "grid_column": null,
            "grid_gap": null,
            "grid_row": null,
            "grid_template_areas": null,
            "grid_template_columns": null,
            "grid_template_rows": null,
            "height": null,
            "justify_content": null,
            "justify_items": null,
            "left": null,
            "margin": "10px",
            "max_height": null,
            "max_width": null,
            "min_height": null,
            "min_width": null,
            "object_fit": null,
            "object_position": null,
            "order": null,
            "overflow": null,
            "overflow_x": null,
            "overflow_y": null,
            "padding": "10px",
            "right": null,
            "top": null,
            "visibility": null,
            "width": null
          }
        },
        "b0fd805965ad45d09a0647494d48ea99": {
          "model_module": "@jupyter-widgets/base",
          "model_name": "LayoutModel",
          "model_module_version": "1.2.0",
          "state": {
            "_model_module": "@jupyter-widgets/base",
            "_model_module_version": "1.2.0",
            "_model_name": "LayoutModel",
            "_view_count": null,
            "_view_module": "@jupyter-widgets/base",
            "_view_module_version": "1.2.0",
            "_view_name": "LayoutView",
            "align_content": null,
            "align_items": null,
            "align_self": null,
            "border": null,
            "bottom": null,
            "display": null,
            "flex": null,
            "flex_flow": null,
            "grid_area": null,
            "grid_auto_columns": null,
            "grid_auto_flow": null,
            "grid_auto_rows": null,
            "grid_column": null,
            "grid_gap": null,
            "grid_row": null,
            "grid_template_areas": null,
            "grid_template_columns": null,
            "grid_template_rows": null,
            "height": null,
            "justify_content": null,
            "justify_items": null,
            "left": null,
            "margin": null,
            "max_height": null,
            "max_width": null,
            "min_height": null,
            "min_width": null,
            "object_fit": null,
            "object_position": null,
            "order": null,
            "overflow": null,
            "overflow_x": null,
            "overflow_y": null,
            "padding": null,
            "right": null,
            "top": null,
            "visibility": null,
            "width": null
          }
        },
        "c183b0f075a74023b88847a382f4ec71": {
          "model_module": "@jupyter-widgets/controls",
          "model_name": "DescriptionStyleModel",
          "model_module_version": "1.5.0",
          "state": {
            "_model_module": "@jupyter-widgets/controls",
            "_model_module_version": "1.5.0",
            "_model_name": "DescriptionStyleModel",
            "_view_count": null,
            "_view_module": "@jupyter-widgets/base",
            "_view_module_version": "1.2.0",
            "_view_name": "StyleView",
            "description_width": ""
          }
        },
        "5d09656d49fb4ac29cc72e288e123e09": {
          "model_module": "@jupyter-widgets/controls",
          "model_name": "DropdownModel",
          "model_module_version": "1.5.0",
          "state": {
            "_dom_classes": [],
            "_model_module": "@jupyter-widgets/controls",
            "_model_module_version": "1.5.0",
            "_model_name": "DropdownModel",
            "_options_labels": [
              "Άσσο Άνευ Καπνός",
              "Άσσο Κόκκινο 100’",
              "Άσσο Μαλακό",
              "Camel Κίτρινο Καπνός",
              "Camel Κίτρινο Μαλακό",
              "Camel Μπλε Καπνός",
              "Camel Μπλε Μαλακό",
              "Craven Μπλε Καπνός",
              "Davidoff Classic 20’",
              "Davidoff Gold 20’",
              "Davidoff Slim Classic",
              "Drum Κίτρινο Καπνός",
              "Gauloises Μπλέ",
              "Gauloises Κόκκινο",
              "Golden Virginia Κίτρινο Καπνός",
              "Golden Virginia Πράσινο Καπνός",
              "Heets Bronze",
              "Heets Sienna/Red",
              "Heets Silver",
              "Heets Turquoise/Μέντα",
              "Heets Willow",
              "Καρέλια Excellence Κασετίνα",
              "Καρέλια Λευκό 20’",
              "Καρέλια Λευκό 100’",
              "Καρέλια Λευκός Καπνός",
              "Καρέλια Μπλε 20’",
              "Καρέλια Μπλε Καπνός",
              "Καρέλια Πλακέ",
              "Καρέλια Πορτοκαλί Καπνός",
              "Καρέλια Χρυσή Κασετίνα",
              "Leader Μπλέ",
              "Lucky Strike Καπνός",
              "Lucky Strike Κόκκινο Σκληρό",
              "Lucky Strike Κόκκινο Μαλακό",
              "Marlboro Light 100’",
              "Marlboro Light Μαλακό",
              "Marlboro Lights 20’ Σκληρό",
              "Marlboro Lights 24’",
              "Marlboro Touch",
              "Marlboro Κόκκινο 20’ Σκληρό",
              "Marlboro Κόκκινο Μαλακό",
              "Marlboro Άσπρο Καπνός",
              "Marlboro Κόκκινο Καπνός",
              "Murati",
              "Neo Classic Tobacco",
              "Neo Sunset Click",
              "Old Holborn Κίτρινος Καπνός",
              "Old Holborn Λευκός Καπνός",
              "Old Holborn Μπλε Καπνός",
              "Pall Mall Μπλε 20’",
              "Phillip Morris Γαλάζιο 100’",
              "Prince Σκληρό",
              "Prince Medium",
              "Prince Μαλακό",
              "Pueblo Καπνός",
              "Silk Cut Λευκό",
              "Silk Cut Μωβ",
              "Stuyvesant Κόκκινο 20’",
              "Stuyvesant Μπλε 22’",
              "Terea Amber",
              "Terea Bronze",
              "Terea Sienna/Red",
              "Terea Silver",
              "Terea Willow",
              "Terea Yellow",
              "Van Nelle Καπνός",
              "Winston SS Λευκό",
              "Winston SS Μπλε",
              "Winston Κόκκινο 20’ Σκληρό",
              "Winston Κόκκινο 20’ Μαλακό",
              "Winston Κόκκινο 100’",
              "Winston Μπλε 100’"
            ],
            "_view_count": null,
            "_view_module": "@jupyter-widgets/controls",
            "_view_module_version": "1.5.0",
            "_view_name": "DropdownView",
            "description": "Brand:",
            "description_tooltip": null,
            "disabled": false,
            "index": 2,
            "layout": "IPY_MODEL_63f1020bbce34a29b49d7f2cb8523ce2",
            "style": "IPY_MODEL_b4140afcdc9b427e81bd1f3eb1a97544"
          }
        },
        "7616aab5baf44c539ff36ac6e7adad8e": {
          "model_module": "@jupyter-widgets/controls",
          "model_name": "IntSliderModel",
          "model_module_version": "1.5.0",
          "state": {
            "_dom_classes": [],
            "_model_module": "@jupyter-widgets/controls",
            "_model_module_version": "1.5.0",
            "_model_name": "IntSliderModel",
            "_view_count": null,
            "_view_module": "@jupyter-widgets/controls",
            "_view_module_version": "1.5.0",
            "_view_name": "IntSliderView",
            "continuous_update": false,
            "description": "Rating:",
            "description_tooltip": null,
            "disabled": false,
            "layout": "IPY_MODEL_dc301b52c7e24447b83c44b64c6a68cd",
            "max": 5,
            "min": 1,
            "orientation": "horizontal",
            "readout": true,
            "readout_format": "d",
            "step": 1,
            "style": "IPY_MODEL_7b7022122bc64e2c984516ee0716a653",
            "value": 4
          }
        },
        "d86e4b866a134c3698b8a2b744f12f53": {
          "model_module": "@jupyter-widgets/base",
          "model_name": "LayoutModel",
          "model_module_version": "1.2.0",
          "state": {
            "_model_module": "@jupyter-widgets/base",
            "_model_module_version": "1.2.0",
            "_model_name": "LayoutModel",
            "_view_count": null,
            "_view_module": "@jupyter-widgets/base",
            "_view_module_version": "1.2.0",
            "_view_name": "LayoutView",
            "align_content": null,
            "align_items": null,
            "align_self": null,
            "border": null,
            "bottom": null,
            "display": null,
            "flex": null,
            "flex_flow": null,
            "grid_area": null,
            "grid_auto_columns": null,
            "grid_auto_flow": null,
            "grid_auto_rows": null,
            "grid_column": null,
            "grid_gap": null,
            "grid_row": null,
            "grid_template_areas": null,
            "grid_template_columns": null,
            "grid_template_rows": null,
            "height": null,
            "justify_content": null,
            "justify_items": null,
            "left": null,
            "margin": null,
            "max_height": null,
            "max_width": null,
            "min_height": null,
            "min_width": null,
            "object_fit": null,
            "object_position": null,
            "order": null,
            "overflow": null,
            "overflow_x": null,
            "overflow_y": null,
            "padding": null,
            "right": null,
            "top": null,
            "visibility": null,
            "width": null
          }
        },
        "b376be1a08a7458d8c1e073acaad1be1": {
          "model_module": "@jupyter-widgets/controls",
          "model_name": "ButtonModel",
          "model_module_version": "1.5.0",
          "state": {
            "_dom_classes": [],
            "_model_module": "@jupyter-widgets/controls",
            "_model_module_version": "1.5.0",
            "_model_name": "ButtonModel",
            "_view_count": null,
            "_view_module": "@jupyter-widgets/controls",
            "_view_module_version": "1.5.0",
            "_view_name": "ButtonView",
            "button_style": "success",
            "description": "Add Rating",
            "disabled": false,
            "icon": "",
            "layout": "IPY_MODEL_7349e88908d642a0bfb0344dc83fc5c2",
            "style": "IPY_MODEL_4810c77256b24d2a87af1ba942cd70ff",
            "tooltip": "Store this brand & rating"
          }
        },
        "79de50cac991444194a95ba19e93d8fe": {
          "model_module": "@jupyter-widgets/controls",
          "model_name": "ButtonModel",
          "model_module_version": "1.5.0",
          "state": {
            "_dom_classes": [],
            "_model_module": "@jupyter-widgets/controls",
            "_model_module_version": "1.5.0",
            "_model_name": "ButtonModel",
            "_view_count": null,
            "_view_module": "@jupyter-widgets/controls",
            "_view_module_version": "1.5.0",
            "_view_name": "ButtonView",
            "button_style": "info",
            "description": "Get Recommendations",
            "disabled": false,
            "icon": "",
            "layout": "IPY_MODEL_1b12abac2fc04866b1fb8384d1868b0e",
            "style": "IPY_MODEL_f3642cbc716c4a63bf8eff1c976cd466",
            "tooltip": "Compute top recommended brands"
          }
        },
        "85c66118aaa64aa1ba99a5825257eb7b": {
          "model_module": "@jupyter-widgets/base",
          "model_name": "LayoutModel",
          "model_module_version": "1.2.0",
          "state": {
            "_model_module": "@jupyter-widgets/base",
            "_model_module_version": "1.2.0",
            "_model_name": "LayoutModel",
            "_view_count": null,
            "_view_module": "@jupyter-widgets/base",
            "_view_module_version": "1.2.0",
            "_view_name": "LayoutView",
            "align_content": null,
            "align_items": null,
            "align_self": null,
            "border": null,
            "bottom": null,
            "display": null,
            "flex": null,
            "flex_flow": null,
            "grid_area": null,
            "grid_auto_columns": null,
            "grid_auto_flow": null,
            "grid_auto_rows": null,
            "grid_column": null,
            "grid_gap": null,
            "grid_row": null,
            "grid_template_areas": null,
            "grid_template_columns": null,
            "grid_template_rows": null,
            "height": null,
            "justify_content": null,
            "justify_items": null,
            "left": null,
            "margin": null,
            "max_height": null,
            "max_width": null,
            "min_height": null,
            "min_width": null,
            "object_fit": null,
            "object_position": null,
            "order": null,
            "overflow": null,
            "overflow_x": null,
            "overflow_y": null,
            "padding": null,
            "right": null,
            "top": null,
            "visibility": null,
            "width": null
          }
        },
        "63f1020bbce34a29b49d7f2cb8523ce2": {
          "model_module": "@jupyter-widgets/base",
          "model_name": "LayoutModel",
          "model_module_version": "1.2.0",
          "state": {
            "_model_module": "@jupyter-widgets/base",
            "_model_module_version": "1.2.0",
            "_model_name": "LayoutModel",
            "_view_count": null,
            "_view_module": "@jupyter-widgets/base",
            "_view_module_version": "1.2.0",
            "_view_name": "LayoutView",
            "align_content": null,
            "align_items": null,
            "align_self": null,
            "border": null,
            "bottom": null,
            "display": null,
            "flex": null,
            "flex_flow": null,
            "grid_area": null,
            "grid_auto_columns": null,
            "grid_auto_flow": null,
            "grid_auto_rows": null,
            "grid_column": null,
            "grid_gap": null,
            "grid_row": null,
            "grid_template_areas": null,
            "grid_template_columns": null,
            "grid_template_rows": null,
            "height": null,
            "justify_content": null,
            "justify_items": null,
            "left": null,
            "margin": "0 10px 0 0",
            "max_height": null,
            "max_width": null,
            "min_height": null,
            "min_width": null,
            "object_fit": null,
            "object_position": null,
            "order": null,
            "overflow": null,
            "overflow_x": null,
            "overflow_y": null,
            "padding": null,
            "right": null,
            "top": null,
            "visibility": null,
            "width": "280px"
          }
        },
        "b4140afcdc9b427e81bd1f3eb1a97544": {
          "model_module": "@jupyter-widgets/controls",
          "model_name": "DescriptionStyleModel",
          "model_module_version": "1.5.0",
          "state": {
            "_model_module": "@jupyter-widgets/controls",
            "_model_module_version": "1.5.0",
            "_model_name": "DescriptionStyleModel",
            "_view_count": null,
            "_view_module": "@jupyter-widgets/base",
            "_view_module_version": "1.2.0",
            "_view_name": "StyleView",
            "description_width": "60px"
          }
        },
        "dc301b52c7e24447b83c44b64c6a68cd": {
          "model_module": "@jupyter-widgets/base",
          "model_name": "LayoutModel",
          "model_module_version": "1.2.0",
          "state": {
            "_model_module": "@jupyter-widgets/base",
            "_model_module_version": "1.2.0",
            "_model_name": "LayoutModel",
            "_view_count": null,
            "_view_module": "@jupyter-widgets/base",
            "_view_module_version": "1.2.0",
            "_view_name": "LayoutView",
            "align_content": null,
            "align_items": null,
            "align_self": null,
            "border": null,
            "bottom": null,
            "display": null,
            "flex": null,
            "flex_flow": null,
            "grid_area": null,
            "grid_auto_columns": null,
            "grid_auto_flow": null,
            "grid_auto_rows": null,
            "grid_column": null,
            "grid_gap": null,
            "grid_row": null,
            "grid_template_areas": null,
            "grid_template_columns": null,
            "grid_template_rows": null,
            "height": null,
            "justify_content": null,
            "justify_items": null,
            "left": null,
            "margin": "0 10px 0 0",
            "max_height": null,
            "max_width": null,
            "min_height": null,
            "min_width": null,
            "object_fit": null,
            "object_position": null,
            "order": null,
            "overflow": null,
            "overflow_x": null,
            "overflow_y": null,
            "padding": null,
            "right": null,
            "top": null,
            "visibility": null,
            "width": "280px"
          }
        },
        "7b7022122bc64e2c984516ee0716a653": {
          "model_module": "@jupyter-widgets/controls",
          "model_name": "SliderStyleModel",
          "model_module_version": "1.5.0",
          "state": {
            "_model_module": "@jupyter-widgets/controls",
            "_model_module_version": "1.5.0",
            "_model_name": "SliderStyleModel",
            "_view_count": null,
            "_view_module": "@jupyter-widgets/base",
            "_view_module_version": "1.2.0",
            "_view_name": "StyleView",
            "description_width": "60px",
            "handle_color": "#e67e22"
          }
        },
        "7349e88908d642a0bfb0344dc83fc5c2": {
          "model_module": "@jupyter-widgets/base",
          "model_name": "LayoutModel",
          "model_module_version": "1.2.0",
          "state": {
            "_model_module": "@jupyter-widgets/base",
            "_model_module_version": "1.2.0",
            "_model_name": "LayoutModel",
            "_view_count": null,
            "_view_module": "@jupyter-widgets/base",
            "_view_module_version": "1.2.0",
            "_view_name": "LayoutView",
            "align_content": null,
            "align_items": null,
            "align_self": null,
            "border": null,
            "bottom": null,
            "display": null,
            "flex": null,
            "flex_flow": null,
            "grid_area": null,
            "grid_auto_columns": null,
            "grid_auto_flow": null,
            "grid_auto_rows": null,
            "grid_column": null,
            "grid_gap": null,
            "grid_row": null,
            "grid_template_areas": null,
            "grid_template_columns": null,
            "grid_template_rows": null,
            "height": null,
            "justify_content": null,
            "justify_items": null,
            "left": null,
            "margin": "0 10px 0 0",
            "max_height": null,
            "max_width": null,
            "min_height": null,
            "min_width": null,
            "object_fit": null,
            "object_position": null,
            "order": null,
            "overflow": null,
            "overflow_x": null,
            "overflow_y": null,
            "padding": null,
            "right": null,
            "top": null,
            "visibility": null,
            "width": "120px"
          }
        },
        "4810c77256b24d2a87af1ba942cd70ff": {
          "model_module": "@jupyter-widgets/controls",
          "model_name": "ButtonStyleModel",
          "model_module_version": "1.5.0",
          "state": {
            "_model_module": "@jupyter-widgets/controls",
            "_model_module_version": "1.5.0",
            "_model_name": "ButtonStyleModel",
            "_view_count": null,
            "_view_module": "@jupyter-widgets/base",
            "_view_module_version": "1.2.0",
            "_view_name": "StyleView",
            "button_color": null,
            "font_weight": ""
          }
        },
        "1b12abac2fc04866b1fb8384d1868b0e": {
          "model_module": "@jupyter-widgets/base",
          "model_name": "LayoutModel",
          "model_module_version": "1.2.0",
          "state": {
            "_model_module": "@jupyter-widgets/base",
            "_model_module_version": "1.2.0",
            "_model_name": "LayoutModel",
            "_view_count": null,
            "_view_module": "@jupyter-widgets/base",
            "_view_module_version": "1.2.0",
            "_view_name": "LayoutView",
            "align_content": null,
            "align_items": null,
            "align_self": null,
            "border": null,
            "bottom": null,
            "display": null,
            "flex": null,
            "flex_flow": null,
            "grid_area": null,
            "grid_auto_columns": null,
            "grid_auto_flow": null,
            "grid_auto_rows": null,
            "grid_column": null,
            "grid_gap": null,
            "grid_row": null,
            "grid_template_areas": null,
            "grid_template_columns": null,
            "grid_template_rows": null,
            "height": null,
            "justify_content": null,
            "justify_items": null,
            "left": null,
            "margin": null,
            "max_height": null,
            "max_width": null,
            "min_height": null,
            "min_width": null,
            "object_fit": null,
            "object_position": null,
            "order": null,
            "overflow": null,
            "overflow_x": null,
            "overflow_y": null,
            "padding": null,
            "right": null,
            "top": null,
            "visibility": null,
            "width": "160px"
          }
        },
        "f3642cbc716c4a63bf8eff1c976cd466": {
          "model_module": "@jupyter-widgets/controls",
          "model_name": "ButtonStyleModel",
          "model_module_version": "1.5.0",
          "state": {
            "_model_module": "@jupyter-widgets/controls",
            "_model_module_version": "1.5.0",
            "_model_name": "ButtonStyleModel",
            "_view_count": null,
            "_view_module": "@jupyter-widgets/base",
            "_view_module_version": "1.2.0",
            "_view_name": "StyleView",
            "button_color": null,
            "font_weight": ""
          }
        },
        "cf57dae3c2474a06aa27ab5c9908a458": {
          "model_module": "@jupyter-widgets/base",
          "model_name": "LayoutModel",
          "model_module_version": "1.2.0",
          "state": {
            "_model_module": "@jupyter-widgets/base",
            "_model_module_version": "1.2.0",
            "_model_name": "LayoutModel",
            "_view_count": null,
            "_view_module": "@jupyter-widgets/base",
            "_view_module_version": "1.2.0",
            "_view_name": "LayoutView",
            "align_content": null,
            "align_items": null,
            "align_self": null,
            "border": null,
            "bottom": null,
            "display": null,
            "flex": null,
            "flex_flow": null,
            "grid_area": null,
            "grid_auto_columns": null,
            "grid_auto_flow": null,
            "grid_auto_rows": null,
            "grid_column": null,
            "grid_gap": null,
            "grid_row": null,
            "grid_template_areas": null,
            "grid_template_columns": null,
            "grid_template_rows": null,
            "height": null,
            "justify_content": null,
            "justify_items": null,
            "left": null,
            "margin": "10px 0 10px 0",
            "max_height": null,
            "max_width": null,
            "min_height": null,
            "min_width": null,
            "object_fit": null,
            "object_position": null,
            "order": null,
            "overflow": null,
            "overflow_x": null,
            "overflow_y": null,
            "padding": null,
            "right": null,
            "top": null,
            "visibility": null,
            "width": null
          }
        },
        "f08180560ef84d9a9ae6f81d9c97cbd5": {
          "model_module": "@jupyter-widgets/base",
          "model_name": "LayoutModel",
          "model_module_version": "1.2.0",
          "state": {
            "_model_module": "@jupyter-widgets/base",
            "_model_module_version": "1.2.0",
            "_model_name": "LayoutModel",
            "_view_count": null,
            "_view_module": "@jupyter-widgets/base",
            "_view_module_version": "1.2.0",
            "_view_name": "LayoutView",
            "align_content": null,
            "align_items": null,
            "align_self": null,
            "border": null,
            "bottom": null,
            "display": null,
            "flex": null,
            "flex_flow": null,
            "grid_area": null,
            "grid_auto_columns": null,
            "grid_auto_flow": null,
            "grid_auto_rows": null,
            "grid_column": null,
            "grid_gap": null,
            "grid_row": null,
            "grid_template_areas": null,
            "grid_template_columns": null,
            "grid_template_rows": null,
            "height": null,
            "justify_content": null,
            "justify_items": null,
            "left": null,
            "margin": "10px 0 10px 0",
            "max_height": null,
            "max_width": null,
            "min_height": null,
            "min_width": null,
            "object_fit": null,
            "object_position": null,
            "order": null,
            "overflow": null,
            "overflow_x": null,
            "overflow_y": null,
            "padding": null,
            "right": null,
            "top": null,
            "visibility": null,
            "width": null
          }
        }
      }
    }
  },
  "cells": [
    {
      "cell_type": "markdown",
      "source": [
        "# Item-Item Collaborative Filtering Recommender System for Smokers"
      ],
      "metadata": {
        "id": "H2qbtP-ODk6n"
      }
    },
    {
      "cell_type": "markdown",
      "source": [
        "## Libraries"
      ],
      "metadata": {
        "id": "kEeBiHn5EB3t"
      }
    },
    {
      "cell_type": "code",
      "source": [
        "# Import Libraries\n",
        "import random\n",
        "import numpy as np\n",
        "import pandas as pd\n",
        "from scipy import sparse\n",
        "from numpy import array\n",
        "from numpy import count_nonzero\n",
        "from sklearn.metrics.pairwise import cosine_similarity\n",
        "\n",
        "import ipywidgets as widgets\n",
        "from IPython.display import display, clear_output, HTML"
      ],
      "metadata": {
        "id": "iS2fQoM8EFg1"
      },
      "execution_count": 1,
      "outputs": []
    },
    {
      "cell_type": "markdown",
      "source": [
        "## Default N variable"
      ],
      "metadata": {
        "id": "Dqtjf2t_4DOQ"
      }
    },
    {
      "cell_type": "code",
      "source": [
        "'''\n",
        "Item-Item Collaborative Filtering (|N|=2)\n",
        "|N| = 2 represents the size of the set N.\n",
        "'''\n",
        "\n",
        "# The set N refers to the neighborhood or set of nearest\n",
        "# neighbors of an item in an item-item collaborative filtering\n",
        "# approach. In other words, for a particular item, the collaborative\n",
        "# filtering  algorithm will select the two most similar items to\n",
        "# form the neighborhood. These two items will then be used to\n",
        "# make recommendations or provide insights.\n",
        "\n",
        "N = 2\n",
        "\n",
        "# # Initialize toy matrix with ratings for testing purposes\n",
        "# A = np.array(\n",
        "#      [[ 1,  0,  3,  0,  0,  5,  0,  0,  5,  0,  4,  0],\n",
        "#       [ 0,  0,  5,  4,  0,  0,  4,  0,  0,  2,  1,  3],\n",
        "#       [ 2,  4,  0,  1,  2,  0,  3,  0,  4,  3,  5,  0],\n",
        "#       [ 0,  2,  4,  0,  5,  0,  0,  4,  0,  0,  2,  0],\n",
        "#       [ 0,  0,  4,  3,  4,  2,  0,  0,  0,  0,  2,  5],\n",
        "#       [ 1,  0,  3,  0,  3,  0,  0,  2,  0,  0,  4,  0]])\n",
        "\n",
        "# rows = len(A)\n",
        "# cols = len(A[1])"
      ],
      "metadata": {
        "id": "gaRnU9EI4B6N"
      },
      "execution_count": 2,
      "outputs": []
    },
    {
      "cell_type": "markdown",
      "source": [
        "## Import Dataset & Conversion to the suitable format for processing"
      ],
      "metadata": {
        "id": "ijMjJLjgCjZI"
      }
    },
    {
      "cell_type": "markdown",
      "source": [
        "### Import Dataset"
      ],
      "metadata": {
        "id": "lwsgYaKwDR8U"
      }
    },
    {
      "cell_type": "code",
      "source": [
        "dataset_filename = 'Smokers_Answers _For_Python.xlsx'\n",
        "brands_filename = 'tobacco_names.txt'\n",
        "\n",
        "# Read the Excel file\n",
        "data = pd.read_excel(dataset_filename)\n",
        "\n",
        "# Define the range of columns from 'B' to 'K'\n",
        "start_col = 'B'\n",
        "end_col = 'K'\n",
        "\n",
        "# Get the column indices based on the column labels\n",
        "start_col_idx = data.columns.get_loc(start_col)\n",
        "end_col_idx = data.columns.get_loc(end_col)\n",
        "\n",
        "# Extract the relevant columns from the DataFrame\n",
        "user_ratings = data.iloc[:, start_col_idx:end_col_idx + 1]\n",
        "\n",
        "# Convert the DataFrame to a 2D array\n",
        "user_ratings_array = user_ratings.values"
      ],
      "metadata": {
        "id": "yF9ZVG0Qq1iZ"
      },
      "execution_count": 3,
      "outputs": []
    },
    {
      "cell_type": "markdown",
      "source": [
        "### Create Dataframe and Import Tobacco & User Labels"
      ],
      "metadata": {
        "id": "HOePy93rNk6M"
      }
    },
    {
      "cell_type": "code",
      "source": [
        "# Read the brand names from the text file\n",
        "with open(brands_filename, 'r') as file:\n",
        "    tobacco_brands = [line.strip() for line in file]\n",
        "\n",
        "# Generate user labels based on the number of users\n",
        "users_num = len(user_ratings_array) # Replace with your actual number of users\n",
        "users = [f'User{i}' for i in range(users_num)]\n",
        "\n",
        "# Create an empty DataFrame with the specified row and column labels\n",
        "df = pd.DataFrame(index = tobacco_brands, columns = users)"
      ],
      "metadata": {
        "id": "yvIC6Xrrc4ZI"
      },
      "execution_count": 4,
      "outputs": []
    },
    {
      "cell_type": "markdown",
      "source": [
        "### Transfer Ratings from Dataset to Dataframe"
      ],
      "metadata": {
        "id": "4gPGYlkwNvVS"
      }
    },
    {
      "cell_type": "code",
      "source": [
        "# Iterate through the entire ratings array and if column object contains\n",
        "# tobacco brand match it to the dataframe row label and append the use rating\n",
        "for i in range(len(user_ratings_array)):\n",
        "  for j in range(len(user_ratings_array[0])):\n",
        "    if j % 2 == 0: #if j is odd then we have column with tobacco brand names\n",
        "      brand = user_ratings_array[i][j]\n",
        "      for k in range(len(df)):\n",
        "        if brand == df.index[k]:\n",
        "            df.iat[k, i] = user_ratings_array[i][j+1]\n",
        "    else:\n",
        "      continue\n",
        "\n",
        "# Delete complete NA rows and then replace the remaining ones with zeros\n",
        "df.dropna(axis = 0, how = 'all', inplace = True)\n",
        "df = df.fillna(0)"
      ],
      "metadata": {
        "id": "NlxUjBcXe-IU"
      },
      "execution_count": null,
      "outputs": []
    },
    {
      "cell_type": "markdown",
      "source": [
        "### Convert Completed Dataframe to 2D Matrix for Easier Calculations"
      ],
      "metadata": {
        "id": "FhrnktlqQ1c0"
      }
    },
    {
      "cell_type": "code",
      "source": [
        "A = df.to_numpy()\n",
        "\n",
        "rows, cols = A.shape"
      ],
      "metadata": {
        "id": "1Ryth9FtuhqY"
      },
      "execution_count": 6,
      "outputs": []
    },
    {
      "cell_type": "code",
      "source": [
        "# Sparsity Calculation\n",
        "sparsity = 1.0 - ( count_nonzero(A) / float(A.size) )\n",
        "print(\"The Matrix Sparsity is:\", sparsity)"
      ],
      "metadata": {
        "id": "tA4AypKT-Bpt"
      },
      "execution_count": null,
      "outputs": []
    },
    {
      "cell_type": "markdown",
      "source": [
        "#### Calculate Average Ratings for each Item (Tobacco Brand)"
      ],
      "metadata": {
        "id": "SjlTU5yuRLVa"
      }
    },
    {
      "cell_type": "code",
      "source": [
        "# Initilize a list for as many items we've got in\n",
        "# order to calculate the average ratings for them\n",
        "item_Avg = [0] * A.shape[0]\n",
        "\n",
        "# Iterate through the ratings matrix and calculate\n",
        "# the average rating for each item available\n",
        "for i in range(rows):\n",
        "  item_Avg[i] = 0\n",
        "  positive_Counter = 0\n",
        "  for j in range(cols):\n",
        "    if A[i][j] != 0:\n",
        "      item_Avg[i] += A[i][j]\n",
        "      positive_Counter += 1\n",
        "  item_Avg[i] = round(item_Avg[i] / positive_Counter, 3)\n",
        "\n",
        "# # Print each items average\n",
        "#   print(item_Avg[i])"
      ],
      "metadata": {
        "id": "ObpNZ2n2aFE4"
      },
      "execution_count": 8,
      "outputs": []
    },
    {
      "cell_type": "markdown",
      "source": [
        "#### 2D Array with substractions of users ratings and items averages"
      ],
      "metadata": {
        "id": "gNd711SKRWDt"
      }
    },
    {
      "cell_type": "code",
      "source": [
        "# Initialize an empty two-dimensional array that will\n",
        "# contain the substractions of users ratings and items averages\n",
        "minus_Array = [[0 for j in range(cols)] for i in range(rows)]\n",
        "\n",
        "# Subtract the items average from each users rating\n",
        "for i in range(len(minus_Array)):\n",
        "  for j in range(len(minus_Array[0])):\n",
        "    if A[i][j] != 0:\n",
        "      minus_Array[i][j] = round(A[i][j] - item_Avg[i], 3)\n",
        "\n",
        "# # Print the updated array that's ready for cosine similarity\n",
        "# for row in minus_Array:\n",
        "#     print(row)"
      ],
      "metadata": {
        "id": "zlffZ9Nlo9qa"
      },
      "execution_count": 9,
      "outputs": []
    },
    {
      "cell_type": "code",
      "source": [
        "# Convert the 2D matrix filled with many zeros into\n",
        "# a sparse matrix representation in Compressed Sparse\n",
        "# Row (CSR) format for storage efficiency storage and\n",
        "# easier computation on sparse matrices\n",
        "A_sparse = sparse.csr_matrix(minus_Array)\n",
        "\n",
        "# Calculate all the pairwise cosine similarities\n",
        "# between each row of the 2D matrix\n",
        "similarities_sparse = round(cosine_similarity(A_sparse, dense_output = False), 4)\n",
        "\n",
        "# # Prints For Testing Purposes\n",
        "\n",
        "# # Cosine Similarities Output\n",
        "# print('pairwise sparse output:\\n {}\\n'.format(similarities_sparse))\n",
        "\n",
        "# # Extract the similarity value from similarities_sparse\n",
        "# similarity_ij = similarities_sparse[0, 1]\n",
        "\n",
        "# # Print the similarity value\n",
        "# print(f\"The similarity between row {i} and row {j} is: {similarity_ij}\")"
      ],
      "metadata": {
        "id": "TxSNhErafghV"
      },
      "execution_count": 10,
      "outputs": []
    },
    {
      "cell_type": "markdown",
      "source": [
        "## Calculate Cosine Similarities Between Pairwise Rows and Keep the N-Top Ones"
      ],
      "metadata": {
        "id": "k9p0bdbuRn83"
      }
    },
    {
      "cell_type": "code",
      "source": [
        "max_similarities = {}\n",
        "\n",
        "# Iterate through the cosine similarities\n",
        "for i in range(similarities_sparse.shape[0]):\n",
        "    row_similarities = []\n",
        "    for j in range(similarities_sparse.shape[1]):\n",
        "        if i != j:\n",
        "            similarity_value = similarities_sparse[i, j]\n",
        "            row_similarities.append((j, similarity_value))\n",
        "\n",
        "    # Sort the row similarities by similarity value in descending order\n",
        "    row_similarities.sort(key=lambda x: x[1], reverse=True)\n",
        "\n",
        "    # Keep only the top two maximum similarities for the row\n",
        "    top_2_similarities = row_similarities[:2]\n",
        "\n",
        "    # Extract the row indices (j) and similarity values for the row\n",
        "    top_2_indices = [pair[0] for pair in top_2_similarities]\n",
        "    top_2_values = [pair[1] for pair in top_2_similarities]\n",
        "\n",
        "    # Store the top two maximum similarities (with row indices) in a list for the current row\n",
        "    max_similarities[i] = list(zip(top_2_indices, top_2_values))\n",
        "\n",
        "    # # Print the top two maximum similarities for the row\n",
        "    # print(f\"Top two maximum similarities for row {i}:\")\n",
        "    # for j, similarity in zip(top_2_indices, top_2_values):\n",
        "    #     print(f\"Row {j}: {similarity}\")\n",
        "    # print()\n",
        "\n",
        "# Print the dictionary of top two maximum similarities for each row\n",
        "print(\"Dictionary of top two maximum similarities for each row:\")\n",
        "for row, similarities in max_similarities.items():\n",
        "    print(f\"Row {row}: {similarities}\")"
      ],
      "metadata": {
        "id": "16nuxOqUBlVs"
      },
      "execution_count": null,
      "outputs": []
    },
    {
      "cell_type": "markdown",
      "source": [
        "## Calculate New Ratings (Still-In-Progress)"
      ],
      "metadata": {
        "id": "9nVrlMBg_-ab"
      }
    },
    {
      "cell_type": "code",
      "source": [
        "# Lets say we want to calculate the rating of movie 1 for user 5\n",
        "\n",
        "user = 4\n",
        "movie = 0\n",
        "\n",
        "# Get the list of max similarities for row 0\n",
        "movie_0_similarities = max_similarities[movie]\n",
        "\n",
        "# Unpack the first element (column index, similarity value)\n",
        "column_index_1, similarity_value_1 = movie_0_similarities[0]\n",
        "\n",
        "# Unpack the second element (column index, similarity value)\n",
        "column_index_2, similarity_value_2 = movie_0_similarities[1]\n",
        "\n",
        "print(column_index_1)  # Output: 5\n",
        "print(similarity_value_1)  # Output: 0.587\n",
        "print(column_index_2)  # Output: 2\n",
        "print(similarity_value_2)  # Output: 0.414"
      ],
      "metadata": {
        "id": "niHgeJiDAC0i"
      },
      "execution_count": null,
      "outputs": []
    },
    {
      "cell_type": "code",
      "source": [
        "# Prediction\n",
        "prediction = round(((similarity_value_1 * A[column_index_1][user]) + (similarity_value_2 * A[column_index_2][user])) / (similarity_value_1 + similarity_value_2), 3)"
      ],
      "metadata": {
        "id": "zN0DVroZDkU1"
      },
      "execution_count": 13,
      "outputs": []
    },
    {
      "cell_type": "code",
      "source": [
        "prediction"
      ],
      "metadata": {
        "id": "lXGvpGvIEJQA"
      },
      "execution_count": null,
      "outputs": []
    },
    {
      "cell_type": "markdown",
      "source": [
        "## GUI Inference"
      ],
      "metadata": {
        "id": "Ta7eqHX_HO1A"
      }
    },
    {
      "cell_type": "markdown",
      "source": [
        "### Reduce Table-DF Sparsity in order to make the predictions better."
      ],
      "metadata": {
        "id": "9lxYak4hHWI-"
      }
    },
    {
      "cell_type": "code",
      "source": [
        "# Make a copy to avoid overwriting the real data\n",
        "df_lower_sparsity = df.copy()\n",
        "\n",
        "# 1) Filter out extremely sparse rows/columns\n",
        "#    Remove tobacco brands (rows) with fewer than a threshold of non-zero ratings\n",
        "#    Remove users (columns) with fewer than a threshold of non-zero ratings\n",
        "min_nonzero_per_brand = 3   # e.g. each brand must have at least 3 non-zero ratings\n",
        "min_nonzero_per_user  = 3   # e.g. each user must have at least 3 non-zero ratings\n",
        "\n",
        "# Keep only those rows (brands) with >= X non-zero entries\n",
        "df_lower_sparsity = df_lower_sparsity.loc[\n",
        "    df_lower_sparsity.astype(bool).sum(axis=1) >= min_nonzero_per_brand\n",
        "]\n",
        "\n",
        "# Keep only those columns (users) with >= X non-zero entries\n",
        "df_lower_sparsity = df_lower_sparsity.loc[\n",
        "    :,\n",
        "    df_lower_sparsity.astype(bool).sum(axis=0) >= min_nonzero_per_user\n",
        "]\n",
        "\n",
        "# 2) Optionally fill some of the remaining zeroes with random synthetic ratings\n",
        "#    (e.g., 20% chance to fill a zero with a random 1..5)\n",
        "fill_probability = 0.20  # 20% chance per zero to fill with a random rating\n",
        "for brand in df_lower_sparsity.index:\n",
        "    for user in df_lower_sparsity.columns:\n",
        "        if df_lower_sparsity.at[brand, user] == 0:\n",
        "            if random.random() < fill_probability:\n",
        "                # pick a random integer 1..5\n",
        "                random_rating = random.randint(1, 5)\n",
        "                df_lower_sparsity.at[brand, user] = random_rating\n",
        "\n",
        "# Now df_lower_sparsity has fewer rows/columns and some random fills.\n",
        "# Convert to A, just like your original code:\n",
        "A = df_lower_sparsity.to_numpy()\n",
        "rows, cols = A.shape\n",
        "\n",
        "print(\"New shape:\", A.shape)\n",
        "print(\"New sparsity:\", 1.0 - (np.count_nonzero(A) / float(A.size)))\n"
      ],
      "metadata": {
        "id": "WciLaEHPGt3A"
      },
      "execution_count": null,
      "outputs": []
    },
    {
      "cell_type": "markdown",
      "source": [
        "### # Interactive GUI"
      ],
      "metadata": {
        "id": "rgGjYbArHdkZ"
      }
    },
    {
      "cell_type": "code",
      "source": [
        "# We assume df, A, and max_similarities are already defined\n",
        "all_brands = df.index.tolist()\n",
        "new_user_ratings = {}\n",
        "\n",
        "title_html = widgets.HTML(\n",
        "    value=(\n",
        "        \"<div style='background-color:#3498db; color:#fff; padding:10px; margin-bottom:10px;'>\"\n",
        "        \"<h2 style='margin:0; font-family:Arial, sans-serif;'>\"\n",
        "        \"SmokersCollabFilter: Personalized Recommendations</h2>\"\n",
        "        \"</div>\"\n",
        "        \"<p style='font-size:14px; line-height:1.5; font-family:Arial; margin:10px;'>\"\n",
        "        \"Enter one or more tobacco brand ratings below (integers only). Then click \"\n",
        "        \"<strong>Get Recommendations</strong> to see which other brands you might enjoy.\"\n",
        "        \"<br><em style='color:#7f8c8d;'>Note: This is a demo UI for experimentation.</em>\"\n",
        "        \"</p>\"\n",
        "    )\n",
        ")\n",
        "\n",
        "def predict_new_user_rating(brand_idx, new_user_ratings):\n",
        "    neighbors = max_similarities.get(brand_idx, [])\n",
        "    if len(neighbors) < 1:\n",
        "        return None\n",
        "\n",
        "    rated_neighbors = []\n",
        "    for (nbr_idx, sim_val) in neighbors:\n",
        "        neighbor_brand_name = df.index[nbr_idx]\n",
        "        if neighbor_brand_name in new_user_ratings:\n",
        "            rated_neighbors.append((nbr_idx, sim_val))\n",
        "        if len(rated_neighbors) == 2:\n",
        "            break\n",
        "\n",
        "    if len(rated_neighbors) == 0:\n",
        "        return None\n",
        "    elif len(rated_neighbors) == 1:\n",
        "        (nbr_idx_1, sim_val_1) = rated_neighbors[0]\n",
        "        rating_1 = new_user_ratings[df.index[nbr_idx_1]]\n",
        "        return None if sim_val_1 == 0 else rating_1\n",
        "    else:\n",
        "        (nbr_idx_1, sim_val_1) = rated_neighbors[0]\n",
        "        (nbr_idx_2, sim_val_2) = rated_neighbors[1]\n",
        "        rating_1 = new_user_ratings[df.index[nbr_idx_1]]\n",
        "        rating_2 = new_user_ratings[df.index[nbr_idx_2]]\n",
        "        denom = sim_val_1 + sim_val_2\n",
        "        if denom == 0:\n",
        "            return None\n",
        "        predicted = ((sim_val_1 * rating_1) + (sim_val_2 * rating_2)) / denom\n",
        "        # We can return an integer or keep it as float. If you want an integer, use int(round(...))\n",
        "        return int(round(predicted))\n",
        "\n",
        "# -----------------------------\n",
        "# Widgets for Brand & Rating\n",
        "# -----------------------------\n",
        "brand_dropdown = widgets.Dropdown(\n",
        "    options=all_brands,\n",
        "    description='Brand:',\n",
        "    layout=widgets.Layout(width='280px', margin='0 10px 0 0')\n",
        ")\n",
        "brand_dropdown.style.description_width = '60px'\n",
        "\n",
        "# Integer-only slider from 1..5\n",
        "rating_slider = widgets.IntSlider(\n",
        "    value=3,\n",
        "    min=1,\n",
        "    max=5,\n",
        "    step=1,\n",
        "    description='Rating:',\n",
        "    continuous_update=False,\n",
        "    layout=widgets.Layout(width='280px', margin='0 10px 0 0')  # wider slider\n",
        ")\n",
        "rating_slider.style.description_width = '60px'\n",
        "rating_slider.style.handle_color = '#e67e22'\n",
        "\n",
        "add_rating_button = widgets.Button(\n",
        "    description='Add Rating',\n",
        "    button_style='success',\n",
        "    tooltip='Store this brand & rating',\n",
        "    layout=widgets.Layout(width='120px', margin='0 10px 0 0')\n",
        ")\n",
        "recommend_button = widgets.Button(\n",
        "    description='Get Recommendations',\n",
        "    button_style='info',\n",
        "    tooltip='Compute top recommended brands',\n",
        "    layout=widgets.Layout(width='160px')\n",
        ")\n",
        "\n",
        "ratings_output = widgets.Output(layout=widgets.Layout(margin='10px 0 10px 0'))\n",
        "recommend_output = widgets.Output(layout=widgets.Layout(margin='10px 0 10px 0'))\n",
        "\n",
        "def on_add_rating_clicked(b):\n",
        "    with ratings_output:\n",
        "        clear_output()\n",
        "        selected_brand = brand_dropdown.value\n",
        "        # Convert to int so we always store an integer\n",
        "        user_rating = int(rating_slider.value)\n",
        "        new_user_ratings[selected_brand] = user_rating\n",
        "\n",
        "        table_html = (\n",
        "            \"<div style='max-height:180px; overflow:auto; border:1px solid #ccc; padding:5px;'>\"\n",
        "            \"<table style='border-collapse:collapse; width:95%; font-family:Arial;'>\"\n",
        "            \"<thead><tr style='background-color:#ecf0f1;'>\"\n",
        "            \"<th style='border:1px solid #bdc3c7; padding:6px;'>Brand</th>\"\n",
        "            \"<th style='border:1px solid #bdc3c7; padding:6px;'>Rating</th>\"\n",
        "            \"</tr></thead><tbody>\"\n",
        "        )\n",
        "        for br, rt in new_user_ratings.items():\n",
        "            table_html += (\n",
        "                f\"<tr>\"\n",
        "                f\"<td style='border:1px solid #bdc3c7; padding:6px;'>{br}</td>\"\n",
        "                # Also show integer rating in the table\n",
        "                f\"<td style='border:1px solid #bdc3c7; padding:6px; text-align:center;'>{int(rt)}</td>\"\n",
        "                f\"</tr>\"\n",
        "            )\n",
        "        table_html += \"</tbody></table></div>\"\n",
        "\n",
        "        display(HTML(\"<b>Your Ratings so far:</b>\"))\n",
        "        display(HTML(table_html))\n",
        "\n",
        "def on_recommend_clicked(b):\n",
        "    with recommend_output:\n",
        "        clear_output()\n",
        "        if not new_user_ratings:\n",
        "            display(HTML(\"<p style='color:red; font-family:Arial;'>\"\n",
        "                         \"You haven't entered any ratings yet. \"\n",
        "                         \"Please add at least one rating.</p>\"))\n",
        "            return\n",
        "\n",
        "        predicted_scores = []\n",
        "        for idx, brand_name in enumerate(all_brands):\n",
        "            if brand_name not in new_user_ratings:\n",
        "                pred = predict_new_user_rating(idx, new_user_ratings)\n",
        "                if pred is not None:\n",
        "                    predicted_scores.append((brand_name, pred))\n",
        "\n",
        "        if not predicted_scores:\n",
        "            display(HTML(\"<p style='color:red; font-family:Arial;'>\"\n",
        "                         \"No recommendations found. Possibly not enough neighbor overlap.</p>\"))\n",
        "            return\n",
        "\n",
        "        predicted_scores.sort(key=lambda x: x[1], reverse=True)\n",
        "        # If you'd like, you can limit to top 5 or 10\n",
        "        top5 = predicted_scores[:5]\n",
        "\n",
        "        recs_html = (\n",
        "            \"<div style='border:2px solid #bdc3c7; padding:10px; font-family:Arial;'>\"\n",
        "            \"<b>Top Recommendations (Brand : Predicted Rating):</b>\"\n",
        "            \"<ul style='list-style-type:disc; padding-left:20px; margin-top:5px;'>\"\n",
        "        )\n",
        "        for (bname, score) in top5:\n",
        "            recs_html += f\"<li><b>{bname}</b>: {score}</li>\"\n",
        "        recs_html += \"</ul></div>\"\n",
        "\n",
        "        display(HTML(recs_html))\n",
        "\n",
        "add_rating_button.on_click(on_add_rating_clicked)\n",
        "recommend_button.on_click(on_recommend_clicked)\n",
        "\n",
        "# Layout\n",
        "inputs_box = widgets.HBox([brand_dropdown, rating_slider])\n",
        "buttons_box = widgets.HBox([add_rating_button, recommend_button])\n",
        "main_container = widgets.VBox(\n",
        "    [\n",
        "        title_html,\n",
        "        inputs_box,\n",
        "        buttons_box,\n",
        "        ratings_output,\n",
        "        recommend_output\n",
        "    ],\n",
        "    layout=widgets.Layout(\n",
        "        border='1px solid #2ecc71',\n",
        "        padding='10px',\n",
        "        margin='10px',\n",
        "        background_color='#f7fdf8'\n",
        "    )\n",
        ")\n",
        "\n",
        "display(main_container)"
      ],
      "metadata": {
        "colab": {
          "base_uri": "https://localhost:8080/",
          "height": 542,
          "referenced_widgets": [
            "0906ec297ec341fdaeb5177ad8eed636",
            "f71d3d517c494846830aa3fed1270400",
            "0e7e7ea7db084d56bf2a26d227a9273e",
            "d721f027866f4bca97e2a56a22fb718e",
            "5963e2cac6b54f1db02e6313fedaf77f",
            "983d58c680ae4bf5bd4a741d1b7becb7",
            "5607318ce97c4a4a829327b8ef3ba3e0",
            "b0fd805965ad45d09a0647494d48ea99",
            "c183b0f075a74023b88847a382f4ec71",
            "5d09656d49fb4ac29cc72e288e123e09",
            "7616aab5baf44c539ff36ac6e7adad8e",
            "d86e4b866a134c3698b8a2b744f12f53",
            "b376be1a08a7458d8c1e073acaad1be1",
            "79de50cac991444194a95ba19e93d8fe",
            "85c66118aaa64aa1ba99a5825257eb7b",
            "63f1020bbce34a29b49d7f2cb8523ce2",
            "b4140afcdc9b427e81bd1f3eb1a97544",
            "dc301b52c7e24447b83c44b64c6a68cd",
            "7b7022122bc64e2c984516ee0716a653",
            "7349e88908d642a0bfb0344dc83fc5c2",
            "4810c77256b24d2a87af1ba942cd70ff",
            "1b12abac2fc04866b1fb8384d1868b0e",
            "f3642cbc716c4a63bf8eff1c976cd466",
            "cf57dae3c2474a06aa27ab5c9908a458",
            "f08180560ef84d9a9ae6f81d9c97cbd5"
          ]
        },
        "id": "XoDhKH-7FGIC",
        "outputId": "3e21df4e-4682-4a7f-8d3e-20d5fa2ebcf3"
      },
      "execution_count": 34,
      "outputs": [
        {
          "output_type": "display_data",
          "data": {
            "text/plain": [
              "VBox(children=(HTML(value=\"<div style='background-color:#3498db; color:#fff; padding:10px; margin-bottom:10px;…"
            ],
            "application/vnd.jupyter.widget-view+json": {
              "version_major": 2,
              "version_minor": 0,
              "model_id": "0906ec297ec341fdaeb5177ad8eed636"
            }
          },
          "metadata": {}
        }
      ]
    }
  ]
}