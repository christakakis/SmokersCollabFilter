{
  "nbformat": 4,
  "nbformat_minor": 0,
  "metadata": {
    "colab": {
      "provenance": [],
      "collapsed_sections": [
        "kEeBiHn5EB3t",
        "Dqtjf2t_4DOQ",
        "lwsgYaKwDR8U",
        "HOePy93rNk6M",
        "4gPGYlkwNvVS",
        "FhrnktlqQ1c0",
        "SjlTU5yuRLVa",
        "gNd711SKRWDt",
        "k9p0bdbuRn83",
        "9nVrlMBg_-ab"
      ]
    },
    "kernelspec": {
      "name": "python3",
      "display_name": "Python 3"
    },
    "language_info": {
      "name": "python"
    }
  },
  "cells": [
    {
      "cell_type": "markdown",
      "source": [
        "# Item-Item Collaborative Filtering Recommender System for Smokers"
      ],
      "metadata": {
        "id": "H2qbtP-ODk6n"
      }
    },
    {
      "cell_type": "markdown",
      "source": [
        "## Libraries"
      ],
      "metadata": {
        "id": "kEeBiHn5EB3t"
      }
    },
    {
      "cell_type": "code",
      "source": [
        "# Import Libraries\n",
        "import numpy as np\n",
        "import pandas as pd\n",
        "from scipy import sparse\n",
        "from numpy import array\n",
        "from numpy import count_nonzero\n",
        "from sklearn.metrics.pairwise import cosine_similarity"
      ],
      "metadata": {
        "id": "iS2fQoM8EFg1"
      },
      "execution_count": null,
      "outputs": []
    },
    {
      "cell_type": "markdown",
      "source": [
        "## Default N variable"
      ],
      "metadata": {
        "id": "Dqtjf2t_4DOQ"
      }
    },
    {
      "cell_type": "code",
      "source": [
        "'''\n",
        "Item-Item Collaborative Filtering (|N|=2)\n",
        "|N| = 2 represents the size of the set N.\n",
        "'''\n",
        "\n",
        "# The set N refers to the neighborhood or set of nearest\n",
        "# neighbors of an item in an item-item collaborative filtering\n",
        "# approach. In other words, for a particular item, the collaborative\n",
        "# filtering  algorithm will select the two most similar items to\n",
        "# form the neighborhood. These two items will then be used to\n",
        "# make recommendations or provide insights.\n",
        "\n",
        "N = 2\n",
        "\n",
        "# # Initialize toy matrix with ratings for testing purposes\n",
        "# A = np.array(\n",
        "#      [[ 1,  0,  3,  0,  0,  5,  0,  0,  5,  0,  4,  0],\n",
        "#       [ 0,  0,  5,  4,  0,  0,  4,  0,  0,  2,  1,  3],\n",
        "#       [ 2,  4,  0,  1,  2,  0,  3,  0,  4,  3,  5,  0],\n",
        "#       [ 0,  2,  4,  0,  5,  0,  0,  4,  0,  0,  2,  0],\n",
        "#       [ 0,  0,  4,  3,  4,  2,  0,  0,  0,  0,  2,  5],\n",
        "#       [ 1,  0,  3,  0,  3,  0,  0,  2,  0,  0,  4,  0]])\n",
        "\n",
        "# rows = len(A)\n",
        "# cols = len(A[1])"
      ],
      "metadata": {
        "id": "gaRnU9EI4B6N"
      },
      "execution_count": null,
      "outputs": []
    },
    {
      "cell_type": "markdown",
      "source": [
        "## Import Dataset & Conversion to the suitable format for processing"
      ],
      "metadata": {
        "id": "ijMjJLjgCjZI"
      }
    },
    {
      "cell_type": "markdown",
      "source": [
        "### Import Dataset"
      ],
      "metadata": {
        "id": "lwsgYaKwDR8U"
      }
    },
    {
      "cell_type": "code",
      "source": [
        "dataset_filename = 'Smokers_Answers_For_Python.xlsx'\n",
        "brands_filename = 'tobacco_names.txt'\n",
        "\n",
        "# Read the Excel file\n",
        "data = pd.read_excel(dataset_filename)\n",
        "\n",
        "# Define the range of columns from 'B' to 'K'\n",
        "start_col = 'B'\n",
        "end_col = 'K'\n",
        "\n",
        "# Get the column indices based on the column labels\n",
        "start_col_idx = data.columns.get_loc(start_col)\n",
        "end_col_idx = data.columns.get_loc(end_col)\n",
        "\n",
        "# Extract the relevant columns from the DataFrame\n",
        "user_ratings = data.iloc[:, start_col_idx:end_col_idx + 1]\n",
        "\n",
        "# Convert the DataFrame to a 2D array\n",
        "user_ratings_array = user_ratings.values"
      ],
      "metadata": {
        "id": "yF9ZVG0Qq1iZ"
      },
      "execution_count": null,
      "outputs": []
    },
    {
      "cell_type": "markdown",
      "source": [
        "### Create Dataframe and Import Tobacco & User Labels"
      ],
      "metadata": {
        "id": "HOePy93rNk6M"
      }
    },
    {
      "cell_type": "code",
      "source": [
        "# Read the brand names from the text file\n",
        "with open(brands_filename, 'r') as file:\n",
        "    tobacco_brands = [line.strip() for line in file]\n",
        "\n",
        "# Generate user labels based on the number of users\n",
        "users_num = len(user_ratings_array) # Replace with your actual number of users\n",
        "users = [f'User{i}' for i in range(users_num)]\n",
        "\n",
        "# Create an empty DataFrame with the specified row and column labels\n",
        "df = pd.DataFrame(index = tobacco_brands, columns = users)"
      ],
      "metadata": {
        "id": "yvIC6Xrrc4ZI"
      },
      "execution_count": null,
      "outputs": []
    },
    {
      "cell_type": "markdown",
      "source": [
        "### Transfer Ratings from Dataset to Dataframe"
      ],
      "metadata": {
        "id": "4gPGYlkwNvVS"
      }
    },
    {
      "cell_type": "code",
      "source": [
        "# Iterate through the entire ratings array and if column object contains\n",
        "# tobacco brand match it to the dataframe row label and append the use rating\n",
        "for i in range(len(user_ratings_array)):\n",
        "  for j in range(len(user_ratings_array[0])):\n",
        "    if j % 2 == 0: #if j is odd then we have column with tobacco brand names\n",
        "      brand = user_ratings_array[i][j]\n",
        "      for k in range(len(df)):\n",
        "        if brand == df.index[k]:\n",
        "            df.iat[k, i] = user_ratings_array[i][j+1]\n",
        "    else:\n",
        "      continue\n",
        "\n",
        "# Delete complete NA rows and then replace the remaining ones with zeros\n",
        "df.dropna(axis = 0, how = 'all', inplace = True)\n",
        "df = df.fillna(0)"
      ],
      "metadata": {
        "id": "NlxUjBcXe-IU"
      },
      "execution_count": null,
      "outputs": []
    },
    {
      "cell_type": "markdown",
      "source": [
        "### Convert Completed Dataframe to 2D Matrix for Easier Calculations"
      ],
      "metadata": {
        "id": "FhrnktlqQ1c0"
      }
    },
    {
      "cell_type": "code",
      "source": [
        "A = df.to_numpy()\n",
        "\n",
        "rows = len(A)\n",
        "cols = len(A[1])"
      ],
      "metadata": {
        "id": "1Ryth9FtuhqY"
      },
      "execution_count": null,
      "outputs": []
    },
    {
      "cell_type": "code",
      "source": [
        "# Sparsity Calculation\n",
        "sparsity = 1.0 - ( count_nonzero(A) / float(A.size) )\n",
        "print(\"The Matrix Sparsity is:\", sparsity)"
      ],
      "metadata": {
        "colab": {
          "base_uri": "https://localhost:8080/"
        },
        "id": "tA4AypKT-Bpt",
        "outputId": "f9a431cf-f916-47e5-bbf2-e775b1468cb7"
      },
      "execution_count": null,
      "outputs": [
        {
          "output_type": "stream",
          "name": "stdout",
          "text": [
            "0.9367283950617284\n"
          ]
        }
      ]
    },
    {
      "cell_type": "markdown",
      "source": [
        "#### Calculate Average Ratings for each Item (Tobacco Brand)"
      ],
      "metadata": {
        "id": "SjlTU5yuRLVa"
      }
    },
    {
      "cell_type": "code",
      "source": [
        "# Initilize a list for as many items we've got in\n",
        "# order to calculate the average ratings for them\n",
        "item_Avg = [0] * A.shape[0]\n",
        "\n",
        "# Iterate through the ratings matrix and calculate\n",
        "# the average rating for each item available\n",
        "for i in range(rows):\n",
        "  item_Avg[i] = 0\n",
        "  positive_Counter = 0\n",
        "  for j in range(cols):\n",
        "    if A[i][j] != 0:\n",
        "      item_Avg[i] += A[i][j]\n",
        "      positive_Counter += 1\n",
        "  item_Avg[i] = round(item_Avg[i] / positive_Counter, 3)\n",
        "\n",
        "# # Print each items average\n",
        "#   print(item_Avg[i])"
      ],
      "metadata": {
        "id": "ObpNZ2n2aFE4"
      },
      "execution_count": null,
      "outputs": []
    },
    {
      "cell_type": "markdown",
      "source": [
        "#### 2D Array with substractions of users ratings and items averages"
      ],
      "metadata": {
        "id": "gNd711SKRWDt"
      }
    },
    {
      "cell_type": "code",
      "source": [
        "# Initialize an empty two-dimensional array that will\n",
        "# contain the substractions of users ratings and items averages\n",
        "minus_Array = [[0 for j in range(cols)] for i in range(rows)]\n",
        "\n",
        "# Subtract the items average from each users rating\n",
        "for i in range(len(minus_Array)):\n",
        "  for j in range(len(minus_Array[0])):\n",
        "    if A[i][j] != 0:\n",
        "      minus_Array[i][j] = round(A[i][j] - item_Avg[i], 3)\n",
        "\n",
        "# # Print the updated array that's ready for cosine similarity\n",
        "# for row in minus_Array:\n",
        "#     print(row)"
      ],
      "metadata": {
        "id": "zlffZ9Nlo9qa"
      },
      "execution_count": null,
      "outputs": []
    },
    {
      "cell_type": "code",
      "source": [
        "# Convert the 2D matrix filled with many zeros into\n",
        "# a sparse matrix representation in Compressed Sparse\n",
        "# Row (CSR) format for storage efficiency storage and\n",
        "# easier computation on sparse matrices\n",
        "A_sparse = sparse.csr_matrix(minus_Array)\n",
        "\n",
        "# Calculate all the pairwise cosine similarities\n",
        "# between each row of the 2D matrix\n",
        "similarities_sparse = round(cosine_similarity(A_sparse, dense_output = False), 4)\n",
        "\n",
        "# # Prints For Testing Purposes\n",
        "\n",
        "# # Cosine Similarities Output\n",
        "# print('pairwise sparse output:\\n {}\\n'.format(similarities_sparse))\n",
        "\n",
        "# # Extract the similarity value from similarities_sparse\n",
        "# similarity_ij = similarities_sparse[0, 1]\n",
        "\n",
        "# # Print the similarity value\n",
        "# print(f\"The similarity between row {i} and row {j} is: {similarity_ij}\")"
      ],
      "metadata": {
        "id": "TxSNhErafghV"
      },
      "execution_count": null,
      "outputs": []
    },
    {
      "cell_type": "markdown",
      "source": [
        "## Calculate Cosine Similarities Between Pairwise Rows and Keep the N-Top Ones"
      ],
      "metadata": {
        "id": "k9p0bdbuRn83"
      }
    },
    {
      "cell_type": "code",
      "source": [
        "max_similarities = {}\n",
        "\n",
        "# Iterate through the cosine similarities\n",
        "for i in range(similarities_sparse.shape[0]):\n",
        "    row_similarities = []\n",
        "    for j in range(similarities_sparse.shape[1]):\n",
        "        if i != j:\n",
        "            similarity_value = similarities_sparse[i, j]\n",
        "            row_similarities.append((j, similarity_value))\n",
        "\n",
        "    # Sort the row similarities by similarity value in descending order\n",
        "    row_similarities.sort(key=lambda x: x[1], reverse=True)\n",
        "\n",
        "    # Keep only the top two maximum similarities for the row\n",
        "    top_2_similarities = row_similarities[:2]\n",
        "\n",
        "    # Extract the row indices (j) and similarity values for the row\n",
        "    top_2_indices = [pair[0] for pair in top_2_similarities]\n",
        "    top_2_values = [pair[1] for pair in top_2_similarities]\n",
        "\n",
        "    # Store the top two maximum similarities (with row indices) in a list for the current row\n",
        "    max_similarities[i] = list(zip(top_2_indices, top_2_values))\n",
        "\n",
        "    # # Print the top two maximum similarities for the row\n",
        "    # print(f\"Top two maximum similarities for row {i}:\")\n",
        "    # for j, similarity in zip(top_2_indices, top_2_values):\n",
        "    #     print(f\"Row {j}: {similarity}\")\n",
        "    # print()\n",
        "\n",
        "# Print the dictionary of top two maximum similarities for each row\n",
        "print(\"Dictionary of top two maximum similarities for each row:\")\n",
        "for row, similarities in max_similarities.items():\n",
        "    print(f\"Row {row}: {similarities}\")"
      ],
      "metadata": {
        "colab": {
          "base_uri": "https://localhost:8080/"
        },
        "id": "16nuxOqUBlVs",
        "outputId": "ca6becfe-68e4-4120-c5af-487a3ce0601c"
      },
      "execution_count": null,
      "outputs": [
        {
          "output_type": "stream",
          "name": "stdout",
          "text": [
            "Dictionary of top two maximum similarities for each row:\n",
            "Row 0: [(1, 0.0), (2, 0.0)]\n",
            "Row 1: [(0, 0.0), (2, 0.0)]\n",
            "Row 2: [(0, 0.0), (1, 0.0)]\n",
            "Row 3: [(0, 0.0), (1, 0.0)]\n",
            "Row 4: [(0, 0.0), (1, 0.0)]\n",
            "Row 5: [(0, 0.0), (1, 0.0)]\n",
            "Row 6: [(11, 0.2171), (19, 0.1861)]\n",
            "Row 7: [(0, 0.0), (1, 0.0)]\n",
            "Row 8: [(0, 0.0), (1, 0.0)]\n",
            "Row 9: [(0, 0.0), (1, 0.0)]\n",
            "Row 10: [(0, 0.0), (1, 0.0)]\n",
            "Row 11: [(18, 0.5), (6, 0.2171)]\n",
            "Row 12: [(27, 0.2888), (6, 0.0716)]\n",
            "Row 13: [(0, 0.0), (1, 0.0)]\n",
            "Row 14: [(0, 0.0), (1, 0.0)]\n",
            "Row 15: [(0, 0.0), (1, 0.0)]\n",
            "Row 16: [(0, 0.0), (1, 0.0)]\n",
            "Row 17: [(0, 0.0), (1, 0.0)]\n",
            "Row 18: [(11, 0.5), (0, 0.0)]\n",
            "Row 19: [(6, 0.1861), (0, 0.0)]\n",
            "Row 20: [(0, 0.0), (1, 0.0)]\n",
            "Row 21: [(0, 0.0), (1, 0.0)]\n",
            "Row 22: [(0, 0.0), (1, 0.0)]\n",
            "Row 23: [(0, 0.0), (1, 0.0)]\n",
            "Row 24: [(0, 0.0), (1, 0.0)]\n",
            "Row 25: [(0, 0.0), (1, 0.0)]\n",
            "Row 26: [(0, 0.0), (1, 0.0)]\n",
            "Row 27: [(12, 0.2888), (0, 0.0)]\n",
            "Row 28: [(0, 0.0), (1, 0.0)]\n",
            "Row 29: [(0, 0.0), (1, 0.0)]\n",
            "Row 30: [(0, 0.0), (1, 0.0)]\n",
            "Row 31: [(0, 0.0), (1, 0.0)]\n",
            "Row 32: [(0, 0.0), (1, 0.0)]\n",
            "Row 33: [(0, 0.0), (1, 0.0)]\n",
            "Row 34: [(0, 0.0), (1, 0.0)]\n",
            "Row 35: [(0, 0.0), (1, 0.0)]\n",
            "Row 36: [(0, 0.0), (1, 0.0)]\n",
            "Row 37: [(0, 0.0), (1, 0.0)]\n",
            "Row 38: [(0, 0.0), (1, 0.0)]\n",
            "Row 39: [(0, 0.0), (1, 0.0)]\n",
            "Row 40: [(0, 0.0), (1, 0.0)]\n",
            "Row 41: [(0, 0.0), (1, 0.0)]\n",
            "Row 42: [(0, 0.0), (1, 0.0)]\n",
            "Row 43: [(0, 0.0), (1, 0.0)]\n",
            "Row 44: [(0, 0.0), (1, 0.0)]\n",
            "Row 45: [(0, 0.0), (1, 0.0)]\n",
            "Row 46: [(0, 0.0), (1, 0.0)]\n",
            "Row 47: [(0, 0.0), (1, 0.0)]\n"
          ]
        }
      ]
    },
    {
      "cell_type": "markdown",
      "source": [
        "## Calculate New Ratings"
      ],
      "metadata": {
        "id": "9nVrlMBg_-ab"
      }
    },
    {
      "cell_type": "code",
      "source": [
        "# Lets say we want to calculate the rating of movie 1 for user 5\n",
        "\n",
        "user = 4\n",
        "movie = 0\n",
        "\n",
        "# Get the list of max similarities for row 0\n",
        "movie_0_similarities = max_similarities[movie]\n",
        "\n",
        "# Unpack the first element (column index, similarity value)\n",
        "column_index_1, similarity_value_1 = movie_0_similarities[0]\n",
        "\n",
        "# Unpack the second element (column index, similarity value)\n",
        "column_index_2, similarity_value_2 = movie_0_similarities[1]\n",
        "\n",
        "print(column_index_1)  # Output: 5\n",
        "print(similarity_value_1)  # Output: 0.587\n",
        "print(column_index_2)  # Output: 2\n",
        "print(similarity_value_2)  # Output: 0.414"
      ],
      "metadata": {
        "colab": {
          "base_uri": "https://localhost:8080/"
        },
        "id": "niHgeJiDAC0i",
        "outputId": "d271c6ad-940b-4d81-be64-cab35ba351fe"
      },
      "execution_count": null,
      "outputs": [
        {
          "output_type": "stream",
          "name": "stdout",
          "text": [
            "5\n",
            "0.587\n",
            "2\n",
            "0.414\n"
          ]
        }
      ]
    },
    {
      "cell_type": "code",
      "source": [
        "# Prediction\n",
        "prediction = round(((similarity_value_1 * A[column_index_1][user]) + (similarity_value_2 * A[column_index_2][user])) / (similarity_value_1 + similarity_value_2), 3)"
      ],
      "metadata": {
        "id": "zN0DVroZDkU1"
      },
      "execution_count": null,
      "outputs": []
    },
    {
      "cell_type": "code",
      "source": [
        "prediction"
      ],
      "metadata": {
        "colab": {
          "base_uri": "https://localhost:8080/"
        },
        "id": "lXGvpGvIEJQA",
        "outputId": "72899aec-21e2-4a44-e590-6f1628490332"
      },
      "execution_count": null,
      "outputs": [
        {
          "output_type": "execute_result",
          "data": {
            "text/plain": [
              "2.586"
            ]
          },
          "metadata": {},
          "execution_count": 18
        }
      ]
    }
  ]
}