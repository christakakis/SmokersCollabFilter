{
  "nbformat": 4,
  "nbformat_minor": 0,
  "metadata": {
    "colab": {
      "provenance": []
    },
    "kernelspec": {
      "name": "python3",
      "display_name": "Python 3"
    },
    "language_info": {
      "name": "python"
    }
  },
  "cells": [
    {
      "cell_type": "code",
      "source": [
        "# Import Libraries\n",
        "import numpy as np\n",
        "import pandas as pd\n",
        "from sklearn.metrics.pairwise import cosine_similarity\n",
        "from scipy import sparse"
      ],
      "metadata": {
        "id": "fAwV9XjlXuLT"
      },
      "execution_count": 1,
      "outputs": []
    },
    {
      "cell_type": "code",
      "source": [
        "'''\n",
        "Item-Item Collaborative Filtering (|N|=2)\n",
        "|N| = 2 represents the size of the set N.\n",
        "'''\n",
        "\n",
        "# The set N refers to the neighborhood or set of nearest\n",
        "# neighbors of an item in an item-item collaborative filtering\n",
        "# approach. In other words, for a particular item, the collaborative\n",
        "# filtering  algorithm will select the two most similar items to\n",
        "# form the neighborhood. These two items will then be used to\n",
        "# make recommendations or provide insights.\n",
        "\n",
        "N = 2"
      ],
      "metadata": {
        "id": "gJGUdfP0xyMr"
      },
      "execution_count": 2,
      "outputs": []
    },
    {
      "cell_type": "code",
      "execution_count": 3,
      "metadata": {
        "id": "POhz6Z9HXc_p"
      },
      "outputs": [],
      "source": [
        "# Initialize toy matrix with ratings for testing purposes\n",
        "A = np.array(\n",
        "     [[ 1,  0,  3,  0,  0,  5,  0,  0,  5,  0,  4,  0],\n",
        "      [ 0,  0,  5,  4,  0,  0,  4,  0,  0,  2,  1,  3],\n",
        "      [ 2,  4,  0,  1,  2,  0,  3,  0,  4,  3,  5,  0],\n",
        "      [ 0,  2,  4,  0,  5,  0,  0,  4,  0,  0,  2,  0],\n",
        "      [ 0,  0,  4,  3,  4,  2,  0,  0,  0,  0,  2,  5],\n",
        "      [ 1,  0,  3,  0,  3,  0,  0,  2,  0,  0,  4,  0]])\n",
        "\n",
        "rows = len(A)\n",
        "cols = len(A[1])"
      ]
    },
    {
      "cell_type": "code",
      "source": [
        "# Initilize a list for as many items we've got in\n",
        "# order to calculate the average ratings for them\n",
        "item_Avg = [0] * A.shape[0]\n",
        "\n",
        "# Iterate through the ratings matrix and calculate\n",
        "# the average rating for each item available\n",
        "for i in range(rows):\n",
        "  item_Avg[i] = 0\n",
        "  positive_Counter = 0\n",
        "  for j in range(cols):\n",
        "    if A[i][j] != 0:\n",
        "      item_Avg[i] += A[i][j]\n",
        "      positive_Counter += 1\n",
        "  item_Avg[i] = round(item_Avg[i] / positive_Counter, 3)\n",
        "# Print each items average\n",
        "  print(item_Avg[i])"
      ],
      "metadata": {
        "colab": {
          "base_uri": "https://localhost:8080/"
        },
        "id": "ObpNZ2n2aFE4",
        "outputId": "11294fde-84f8-4428-e130-9a280afba0fb"
      },
      "execution_count": 4,
      "outputs": [
        {
          "output_type": "stream",
          "name": "stdout",
          "text": [
            "3.6\n",
            "3.167\n",
            "3.0\n",
            "3.4\n",
            "3.333\n",
            "2.6\n"
          ]
        }
      ]
    },
    {
      "cell_type": "code",
      "source": [
        "# Initialize an empty two-dimensional array that will\n",
        "# contain the substractions of users ratings and items averages\n",
        "minus_Array = [[0 for j in range(cols)] for i in range(rows)]\n",
        "\n",
        "# Subtract the items average from each users rating\n",
        "for i in range(len(minus_Array)):\n",
        "  for j in range(len(minus_Array[0])):\n",
        "    if A[i][j] != 0:\n",
        "      minus_Array[i][j] = round(A[i][j] - item_Avg[i], 3)\n",
        "\n",
        "# Print the updated array that's ready for cosine similarity\n",
        "for row in minus_Array:\n",
        "    print(row)"
      ],
      "metadata": {
        "colab": {
          "base_uri": "https://localhost:8080/"
        },
        "id": "zlffZ9Nlo9qa",
        "outputId": "7b8df65d-56d1-4f39-9522-b42156d94818"
      },
      "execution_count": 5,
      "outputs": [
        {
          "output_type": "stream",
          "name": "stdout",
          "text": [
            "[-2.6, 0, -0.6, 0, 0, 1.4, 0, 0, 1.4, 0, 0.4, 0]\n",
            "[0, 0, 1.833, 0.833, 0, 0, 0.833, 0, 0, -1.167, -2.167, -0.167]\n",
            "[-1.0, 1.0, 0, -2.0, -1.0, 0, 0.0, 0, 1.0, 0.0, 2.0, 0]\n",
            "[0, -1.4, 0.6, 0, 1.6, 0, 0, 0.6, 0, 0, -1.4, 0]\n",
            "[0, 0, 0.667, -0.333, 0.667, -1.333, 0, 0, 0, 0, -1.333, 1.667]\n",
            "[-1.6, 0, 0.4, 0, 0.4, 0, 0, -0.6, 0, 0, 1.4, 0]\n"
          ]
        }
      ]
    },
    {
      "cell_type": "code",
      "source": [
        "# Convert the 2D matrix filled with many zeros into\n",
        "# a sparse matrix representation in Compressed Sparse\n",
        "# Row (CSR) format for storage efficiency storage and\n",
        "# easier computation on sparse matrices\n",
        "A_sparse = sparse.csr_matrix(minus_Array)\n",
        "\n",
        "# Calculate all the pairwise cosine similarities\n",
        "# between each row of the 2D matrix\n",
        "similarities_sparse = round(cosine_similarity(A_sparse, dense_output = False), 4)\n",
        "\n",
        "# Prints For Testing Purposes\n",
        "\n",
        "# # Cosine Similarities Output\n",
        "# print('pairwise sparse output:\\n {}\\n'.format(similarities_sparse))\n",
        "\n",
        "# # Extract the similarity value from similarities_sparse\n",
        "# similarity_ij = similarities_sparse[0, 1]\n",
        "\n",
        "# # Print the similarity value\n",
        "# print(f\"The similarity between row {i} and row {j} is: {similarity_ij}\")"
      ],
      "metadata": {
        "id": "TxSNhErafghV"
      },
      "execution_count": null,
      "outputs": []
    },
    {
      "cell_type": "code",
      "source": [
        "# max_similarities = {}\n",
        "\n",
        "# # Iterate through the cosine similarities\n",
        "# for i in range(similarities_sparse.shape[0]):\n",
        "#     for j in range(i+1, similarities_sparse.shape[1]):\n",
        "#         similarity_value = similarities_sparse[i, j]\n",
        "\n",
        "#         if similarity_value < 0.99:\n",
        "#             pair = (i, j)\n",
        "#             if pair not in max_similarities or similarity_value > max_similarities[pair]:\n",
        "#                 max_similarities[pair] = similarity_value"
      ],
      "metadata": {
        "id": "MMNAgQep6Jyl"
      },
      "execution_count": null,
      "outputs": []
    },
    {
      "cell_type": "code",
      "source": [
        "max_similarities = {}\n",
        "\n",
        "# Iterate through the cosine similarities\n",
        "for i in range(similarities_sparse.shape[0]):\n",
        "    row_similarities = []\n",
        "    for j in range(similarities_sparse.shape[1]):\n",
        "        if i != j:\n",
        "            similarity_value = similarities_sparse[i, j]\n",
        "            row_similarities.append((j, similarity_value))\n",
        "\n",
        "    # Sort the row similarities by similarity value in descending order\n",
        "    row_similarities.sort(key=lambda x: x[1], reverse=True)\n",
        "\n",
        "    # Keep only the top two maximum similarities for the row\n",
        "    top_2_similarities = row_similarities[:2]\n",
        "\n",
        "    # Extract the row indices (j) and similarity values for the row\n",
        "    top_2_indices = [pair[0] for pair in top_2_similarities]\n",
        "    top_2_values = [pair[1] for pair in top_2_similarities]\n",
        "\n",
        "    # Store the top two maximum similarities (with row indices) in a list for the current row\n",
        "    max_similarities[i] = list(zip(top_2_indices, top_2_values))\n",
        "\n",
        "    # # Print the top two maximum similarities for the row\n",
        "    # print(f\"Top two maximum similarities for row {i}:\")\n",
        "    # for j, similarity in zip(top_2_indices, top_2_values):\n",
        "    #     print(f\"Row {j}: {similarity}\")\n",
        "    # print()\n",
        "\n",
        "# Print the dictionary of top two maximum similarities for each row\n",
        "print(\"Dictionary of top two maximum similarities for each row:\")\n",
        "for row, similarities in max_similarities.items():\n",
        "    print(f\"Row {row}: {similarities}\")"
      ],
      "metadata": {
        "colab": {
          "base_uri": "https://localhost:8080/"
        },
        "id": "16nuxOqUBlVs",
        "outputId": "309bcc39-fae4-4d68-9699-2526c27d5d91"
      },
      "execution_count": 13,
      "outputs": [
        {
          "output_type": "stream",
          "name": "stdout",
          "text": [
            "Dictionary of top two maximum similarities for each row:\n",
            "Row 0: [(5, 0.587), (2, 0.414)]\n",
            "Row 1: [(3, 0.468), (4, 0.3989)]\n",
            "Row 2: [(5, 0.5064), (0, 0.414)]\n",
            "Row 3: [(1, 0.468), (4, 0.4588)]\n",
            "Row 4: [(3, 0.4588), (1, 0.3989)]\n",
            "Row 5: [(0, 0.587), (2, 0.5064)]\n"
          ]
        }
      ]
    },
    {
      "cell_type": "markdown",
      "source": [
        "## Testing"
      ],
      "metadata": {
        "id": "9nVrlMBg_-ab"
      }
    },
    {
      "cell_type": "code",
      "source": [
        "# Lets say we want to calculate the rating of movie 1 for user 5\n",
        "\n",
        "user = 4\n",
        "movie = 0\n",
        "\n",
        "# Get the list of max similarities for row 0\n",
        "movie_0_similarities = max_similarities[movie]\n",
        "\n",
        "# Unpack the first element (column index, similarity value)\n",
        "column_index_1, similarity_value_1 = movie_0_similarities[0]\n",
        "\n",
        "# Unpack the second element (column index, similarity value)\n",
        "column_index_2, similarity_value_2 = movie_0_similarities[1]\n",
        "\n",
        "print(column_index_1)  # Output: 5\n",
        "print(similarity_value_1)  # Output: 0.587\n",
        "print(column_index_2)  # Output: 2\n",
        "print(similarity_value_2)  # Output: 0.414"
      ],
      "metadata": {
        "colab": {
          "base_uri": "https://localhost:8080/"
        },
        "id": "niHgeJiDAC0i",
        "outputId": "d271c6ad-940b-4d81-be64-cab35ba351fe"
      },
      "execution_count": 14,
      "outputs": [
        {
          "output_type": "stream",
          "name": "stdout",
          "text": [
            "5\n",
            "0.587\n",
            "2\n",
            "0.414\n"
          ]
        }
      ]
    },
    {
      "cell_type": "code",
      "source": [
        "# Prediction\n",
        "prediction = round(((similarity_value_1 * A[column_index_1][user]) + (similarity_value_2 * A[column_index_2][user])) / (similarity_value_1 + similarity_value_2), 3)"
      ],
      "metadata": {
        "id": "zN0DVroZDkU1"
      },
      "execution_count": 17,
      "outputs": []
    },
    {
      "cell_type": "code",
      "source": [
        "prediction"
      ],
      "metadata": {
        "colab": {
          "base_uri": "https://localhost:8080/"
        },
        "id": "lXGvpGvIEJQA",
        "outputId": "72899aec-21e2-4a44-e590-6f1628490332"
      },
      "execution_count": 18,
      "outputs": [
        {
          "output_type": "execute_result",
          "data": {
            "text/plain": [
              "2.586"
            ]
          },
          "metadata": {},
          "execution_count": 18
        }
      ]
    }
  ]
}